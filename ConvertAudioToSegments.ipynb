{
 "cells": [
  {
   "cell_type": "code",
   "execution_count": 1,
   "metadata": {},
   "outputs": [
    {
     "name": "stdout",
     "output_type": "stream",
     "text": [
      "Collecting pydub\n",
      "  Downloading pydub-0.25.1-py2.py3-none-any.whl.metadata (1.4 kB)\n",
      "Downloading pydub-0.25.1-py2.py3-none-any.whl (32 kB)\n",
      "Installing collected packages: pydub\n",
      "Successfully installed pydub-0.25.1\n",
      "Note: you may need to restart the kernel to use updated packages.\n"
     ]
    },
    {
     "name": "stderr",
     "output_type": "stream",
     "text": [
      "\n",
      "[notice] A new release of pip is available: 24.0 -> 24.2\n",
      "[notice] To update, run: python.exe -m pip install --upgrade pip\n"
     ]
    }
   ],
   "source": [
    "%pip install pydub\n"
   ]
  },
  {
   "cell_type": "code",
   "execution_count": 9,
   "metadata": {},
   "outputs": [
    {
     "name": "stdout",
     "output_type": "stream",
     "text": [
      "Processing complete!\n"
     ]
    },
    {
     "ename": "",
     "evalue": "",
     "output_type": "error",
     "traceback": [
      "\u001b[1;31mThe Kernel crashed while executing code in the current cell or a previous cell. \n",
      "\u001b[1;31mPlease review the code in the cell(s) to identify a possible cause of the failure. \n",
      "\u001b[1;31mClick <a href='https://aka.ms/vscodeJupyterKernelCrash'>here</a> for more info. \n",
      "\u001b[1;31mView Jupyter <a href='command:jupyter.viewOutput'>log</a> for further details."
     ]
    }
   ],
   "source": [
    "from pydub import AudioSegment\n",
    "from pydub.silence import split_on_silence, detect_silence\n",
    "\n",
    "# Load the audio file\n",
    "audio = AudioSegment.from_file(\"Backward.wav\")\n",
    "\n",
    "# Parameters\n",
    "min_silence_len = 500  # Minimum length of silence to consider for splitting (ms)\n",
    "silence_thresh = audio.dBFS - 14  # Silence threshold (in dBFS)\n",
    "padding_duration = 1000  # Duration of padding to add before and after the word (ms)\n",
    "\n",
    "def trim_leading_trailing_silence(segment, silence_thresh, max_silence_len):\n",
    "    # Detect leading and trailing silence\n",
    "    silent_chunks = detect_silence(segment, min_silence_len=100, silence_thresh=silence_thresh)\n",
    "    \n",
    "    if silent_chunks:\n",
    "        # Assume the silence detected is before and after the word\n",
    "        leading_silence_end = silent_chunks[0][1] if silent_chunks[0][0] == 0 else 0\n",
    "        trailing_silence_start = silent_chunks[-1][0] if silent_chunks[-1][1] == len(segment) else len(segment)\n",
    "        \n",
    "        # Trim only the leading and trailing silence (up to max_silence_len)\n",
    "        start = leading_silence_end\n",
    "        end = trailing_silence_start\n",
    "\n",
    "        if end - start < len(segment):\n",
    "            # Ensure trimming is within bounds and retains the word\n",
    "            start = max(0, start - max_silence_len)\n",
    "            end = min(len(segment), end + max_silence_len)\n",
    "            return segment[start:end]\n",
    "    return segment\n",
    "\n",
    "# Split audio based on silence\n",
    "segments = split_on_silence(audio, min_silence_len=min_silence_len, silence_thresh=silence_thresh)\n",
    "\n",
    "# Define the word to use in filenames\n",
    "word = \"Backward\"\n",
    "\n",
    "# Process each segment\n",
    "for i, segment in enumerate(segments):\n",
    "    # Remove leading and trailing silence\n",
    "    trimmed_segment = trim_leading_trailing_silence(segment, silence_thresh, padding_duration)\n",
    "\n",
    "    # Add padding to the beginning and end of each segment\n",
    "    start_padding = AudioSegment.silent(duration=padding_duration)\n",
    "    end_padding = AudioSegment.silent(duration=padding_duration)\n",
    "    final_segment = start_padding + trimmed_segment + end_padding\n",
    "\n",
    "    # Generate the filename\n",
    "    filename = f\"{word}_{i+1:02d}.wav\"\n",
    "    \n",
    "    # Export the final segment\n",
    "    final_segment.export(filename, format=\"wav\")\n",
    "\n",
    "print(\"Processing complete!\")\n"
   ]
  }
 ],
 "metadata": {
  "kernelspec": {
   "display_name": "Python 3",
   "language": "python",
   "name": "python3"
  },
  "language_info": {
   "codemirror_mode": {
    "name": "ipython",
    "version": 3
   },
   "file_extension": ".py",
   "mimetype": "text/x-python",
   "name": "python",
   "nbconvert_exporter": "python",
   "pygments_lexer": "ipython3",
   "version": "3.12.2"
  }
 },
 "nbformat": 4,
 "nbformat_minor": 2
}
